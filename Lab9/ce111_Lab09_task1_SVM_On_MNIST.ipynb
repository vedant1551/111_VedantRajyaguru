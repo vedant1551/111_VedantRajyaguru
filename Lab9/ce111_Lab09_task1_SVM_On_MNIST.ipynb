{
  "nbformat": 4,
  "nbformat_minor": 0,
  "metadata": {
    "colab": {
      "name": "ce111_Lab09_task1_SVM_On_MNIST.ipynb",
      "provenance": []
    },
    "kernelspec": {
      "name": "python3",
      "display_name": "Python 3"
    },
    "language_info": {
      "name": "python"
    }
  },
  "cells": [
    {
      "cell_type": "markdown",
      "metadata": {
        "id": "EUS_Yfpl3i5y"
      },
      "source": [
        "**Assignment:**\n",
        "\n",
        "Try SVM classifier on MNIST dataset, compare the preformance of linear, polynomial and RBF kernels.\n"
      ]
    },
    {
      "cell_type": "code",
      "metadata": {
        "colab": {
          "base_uri": "https://localhost:8080/"
        },
        "id": "hIHufDZ63WZ5",
        "outputId": "652cac43-034f-45ac-8bad-5b5633d3baf7"
      },
      "source": [
        "\n",
        "#import necessary libraries\n",
        "import sys, os\n",
        "import numpy as np\n",
        "import matplotlib.pyplot as plt\n",
        "from sklearn import svm, metrics\n",
        "from sklearn.model_selection import train_test_split\n",
        "from sklearn.datasets import load_digits\n",
        "\n",
        "digits = load_digits()\n",
        "digits.data.shape\n",
        "\n",
        "print(digits.target)\n"
      ],
      "execution_count": 1,
      "outputs": [
        {
          "output_type": "stream",
          "name": "stdout",
          "text": [
            "[0 1 2 ... 8 9 8]\n"
          ]
        }
      ]
    },
    {
      "cell_type": "code",
      "metadata": {
        "id": "gSVdaZW43g3i"
      },
      "source": [
        "\n",
        "X_train, X_test, y_train, y_test = train_test_split(digits.data, digits.target, test_size = 0.3 ,random_state = 111)\n"
      ],
      "execution_count": 2,
      "outputs": []
    },
    {
      "cell_type": "markdown",
      "metadata": {
        "id": "SYLtr-d03snK"
      },
      "source": [
        "**Linear SVM Classifier**\n"
      ]
    },
    {
      "cell_type": "code",
      "metadata": {
        "id": "bsfJpmlO3n-3"
      },
      "source": [
        "\n",
        "\n",
        "lsc = svm.SVC(kernel='linear')\n"
      ],
      "execution_count": 3,
      "outputs": []
    },
    {
      "cell_type": "code",
      "metadata": {
        "colab": {
          "base_uri": "https://localhost:8080/"
        },
        "id": "fjWpOYiA3q71",
        "outputId": "a2d81d9c-9731-4cf9-8cea-b4e7f8b45bd0"
      },
      "source": [
        "\n",
        "#Train Classifier\n",
        "lsc.fit(X_train, y_train)\n"
      ],
      "execution_count": 4,
      "outputs": [
        {
          "output_type": "execute_result",
          "data": {
            "text/plain": [
              "SVC(C=1.0, break_ties=False, cache_size=200, class_weight=None, coef0=0.0,\n",
              "    decision_function_shape='ovr', degree=3, gamma='scale', kernel='linear',\n",
              "    max_iter=-1, probability=False, random_state=None, shrinking=True,\n",
              "    tol=0.001, verbose=False)"
            ]
          },
          "metadata": {},
          "execution_count": 4
        }
      ]
    },
    {
      "cell_type": "code",
      "metadata": {
        "colab": {
          "base_uri": "https://localhost:8080/"
        },
        "id": "znyCPaXj3wEw",
        "outputId": "5b4e537e-9f85-4784-b9cb-44edb46bbd5e"
      },
      "source": [
        "\n",
        "lin_y_pred = lsc.predict(X_test)\n",
        "\n",
        "print(\"Accuracy:\", metrics.accuracy_score(y_test, lin_y_pred))\n"
      ],
      "execution_count": 5,
      "outputs": [
        {
          "output_type": "stream",
          "name": "stdout",
          "text": [
            "Accuracy: 0.9851851851851852\n"
          ]
        }
      ]
    },
    {
      "cell_type": "markdown",
      "metadata": {
        "id": "KbzbYiXZ4AF1"
      },
      "source": [
        "\n",
        "**RBF SVM Classifier**\n"
      ]
    },
    {
      "cell_type": "code",
      "metadata": {
        "id": "NTSM1gN_3xiR"
      },
      "source": [
        "\n",
        "rbf_svm = svm.SVC(kernel='rbf')\n"
      ],
      "execution_count": 6,
      "outputs": []
    },
    {
      "cell_type": "code",
      "metadata": {
        "colab": {
          "base_uri": "https://localhost:8080/"
        },
        "id": "xdo9lrZa3zKl",
        "outputId": "4a8f8988-7344-4c50-f778-6a2e9f9fdc37"
      },
      "source": [
        "\n",
        "#Train Classifier\n",
        "rbf_svm.fit(X_train, y_train)\n"
      ],
      "execution_count": 7,
      "outputs": [
        {
          "output_type": "execute_result",
          "data": {
            "text/plain": [
              "SVC(C=1.0, break_ties=False, cache_size=200, class_weight=None, coef0=0.0,\n",
              "    decision_function_shape='ovr', degree=3, gamma='scale', kernel='rbf',\n",
              "    max_iter=-1, probability=False, random_state=None, shrinking=True,\n",
              "    tol=0.001, verbose=False)"
            ]
          },
          "metadata": {},
          "execution_count": 7
        }
      ]
    },
    {
      "cell_type": "code",
      "metadata": {
        "colab": {
          "base_uri": "https://localhost:8080/"
        },
        "id": "l4ty4kcW3-BR",
        "outputId": "349ba07a-3d70-4a3a-d8e3-e055cbed4373"
      },
      "source": [
        "\n",
        "rbf_y_pred = rbf_svm.predict(X_test)\n",
        "\n",
        "print(\"Accuracy:\", metrics.accuracy_score(y_test, rbf_y_pred))\n"
      ],
      "execution_count": 8,
      "outputs": [
        {
          "output_type": "stream",
          "name": "stdout",
          "text": [
            "Accuracy: 0.9888888888888889\n"
          ]
        }
      ]
    },
    {
      "cell_type": "markdown",
      "metadata": {
        "id": "A2I-4Ibu36ul"
      },
      "source": [
        ""
      ]
    },
    {
      "cell_type": "markdown",
      "metadata": {
        "id": "LGEeo3Ij38aa"
      },
      "source": [
        "**Polynominal SVM Classifier**\n"
      ]
    },
    {
      "cell_type": "code",
      "metadata": {
        "id": "qEI8uyGK300h"
      },
      "source": [
        "\n",
        "\n",
        "p_svm = svm.SVC(kernel='poly')\n"
      ],
      "execution_count": 9,
      "outputs": []
    },
    {
      "cell_type": "code",
      "metadata": {
        "colab": {
          "base_uri": "https://localhost:8080/"
        },
        "id": "DD_QywiX316N",
        "outputId": "2dde9abc-fbfb-4b7c-e4d6-96df60a50f4c"
      },
      "source": [
        "\n",
        "#Train Classifier\n",
        "p_svm.fit(X_train, y_train)"
      ],
      "execution_count": 10,
      "outputs": [
        {
          "output_type": "execute_result",
          "data": {
            "text/plain": [
              "SVC(C=1.0, break_ties=False, cache_size=200, class_weight=None, coef0=0.0,\n",
              "    decision_function_shape='ovr', degree=3, gamma='scale', kernel='poly',\n",
              "    max_iter=-1, probability=False, random_state=None, shrinking=True,\n",
              "    tol=0.001, verbose=False)"
            ]
          },
          "metadata": {},
          "execution_count": 10
        }
      ]
    },
    {
      "cell_type": "code",
      "metadata": {
        "colab": {
          "base_uri": "https://localhost:8080/"
        },
        "id": "CCyCBVz335XL",
        "outputId": "ee442df3-3548-4ed8-dc7d-4709c345f6e6"
      },
      "source": [
        "\n",
        "poly_y_pred = p_svm.predict(X_test)\n",
        "print(\"Accuracy:\", metrics.accuracy_score(y_test, poly_y_pred))"
      ],
      "execution_count": 11,
      "outputs": [
        {
          "output_type": "stream",
          "name": "stdout",
          "text": [
            "Accuracy: 0.9962962962962963\n"
          ]
        }
      ]
    }
  ]
}