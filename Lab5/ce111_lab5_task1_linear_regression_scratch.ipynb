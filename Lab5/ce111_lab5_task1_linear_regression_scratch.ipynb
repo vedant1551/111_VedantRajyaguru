{
  "nbformat": 4,
  "nbformat_minor": 0,
  "metadata": {
    "colab": {
      "name": "ce111_lab5_task1_linear_regression_scratch.ipynb",
      "provenance": []
    },
    "kernelspec": {
      "name": "python3",
      "display_name": "Python 3"
    },
    "language_info": {
      "name": "python"
    }
  },
  "cells": [
    {
      "cell_type": "markdown",
      "metadata": {
        "id": "i_YTur9RoanS"
      },
      "source": [
        ""
      ]
    },
    {
      "cell_type": "code",
      "metadata": {
        "id": "PIsU8wPcoRxz"
      },
      "source": [
        "# Import Numpy & PyTorch\n",
        "import numpy as np\n",
        "import torch\n",
        "\n"
      ],
      "execution_count": null,
      "outputs": []
    },
    {
      "cell_type": "markdown",
      "metadata": {
        "id": "jebpb0v7oe6p"
      },
      "source": [
        "A tensor is a number, vector, matrix or any n-dimensional array.\n",
        "\n",
        "## Problem Statement\n",
        "\n",
        "We'll create a model that predicts crop yeilds for apples (*target variable*) by looking at the average temperature, rainfall and humidity (*input variables or features*) in different regions. \n",
        "\n",
        "Here's the training data:\n",
        "\n",
        ">Temp | Rain | Humidity | Prediction\n",
        ">--- | --- | --- | ---\n",
        "> 73 | 67 | 43 | 56\n",
        "> 91 | 88 | 64 | 81\n",
        "> 87 | 134 | 58 | 119\n",
        "> 102 | 43 | 37 | 22\n",
        "> 69 | 96 | 70 | 103\n",
        "\n",
        "In a **linear regression** model, each target variable is estimated to be a weighted sum of the input variables, offset by some constant, known as a bias :\n",
        "\n",
        "```\n",
        "yeild_apple  = w11 * temp + w12 * rainfall + w13 * humidity + b1\n",
        "```\n",
        "\n",
        "It means that the yield of apples is a linear or planar function of the temperature, rainfall & humidity.\n",
        "\n",
        "\n",
        "\n",
        "**Our objective**: Find a suitable set of *weights* and *biases* using the training data, to make accurate predictions.\n",
        "\n",
        "## Training Data\n",
        "The training data can be represented using 2 matrices (inputs and targets), each with one row per observation and one column for variable.\n",
        "\n"
      ]
    },
    {
      "cell_type": "code",
      "metadata": {
        "id": "DsZr5s3Soc3s"
      },
      "source": [
        "\n",
        "# Input (temp, rainfall, humidity)\n",
        "X = np.array([[73, 67, 43], \n",
        "                   [91, 88, 64], \n",
        "                   [87, 134, 58], \n",
        "                   [102, 43, 37], \n",
        "                   [69, 96, 70]], dtype='float32')\n",
        "\n",
        "# Target (apples)\n",
        "Y = np.array([[56], \n",
        "                    [81], \n",
        "                    [119], \n",
        "                    [22], \n",
        "                    [103]], dtype='float32')\n",
        "\n"
      ],
      "execution_count": null,
      "outputs": []
    },
    {
      "cell_type": "markdown",
      "metadata": {
        "id": "aYz8pd6FouEs"
      },
      "source": [
        "Before we build a model, we need to convert inputs and targets to PyTorch tensors.\n",
        "\n",
        "## Linear Regression Model (from scratch)\n",
        "\n",
        "The *weights* and *biases* can also be represented as matrices, initialized with random values. The first row of `w` and the first element of `b` are use to predict the first target variable i.e. yield for apples, and similarly the second for oranges.\n",
        "\n",
        "The *model* is simply a function that performs a matrix multiplication of the input `x` and the weights `w` (transposed) and adds the bias `b` (replicated for each observation).\n",
        "\n",
        "$$\n",
        "\\hspace{2.5cm} X \\hspace{1.1cm} \\times \\hspace{1.2cm} W^T \\hspace{1.2cm}  + \\hspace{1cm} b \\hspace{2cm}\n",
        "$$\n",
        "\n",
        "$$\n",
        "\\left[ \\begin{array}{cc}\n",
        "73 & 67 & 43 \\\\\n",
        "91 & 88 & 64 \\\\\n",
        "\\vdots & \\vdots & \\vdots \\\\\n",
        "69 & 96 & 70\n",
        "\\end{array} \\right]\n",
        "%\n",
        "\\times\n",
        "%\n",
        "\\left[ \\begin{array}{cc}\n",
        "w_{11} & w_{21} \\\\\n",
        "w_{12} & w_{22} \\\\\n",
        "w_{13} & w_{23}\n",
        "\\end{array} \\right]\n",
        "%\n",
        "+\n",
        "%\n",
        "\\left[ \\begin{array}{cc}\n",
        "b_{1} & b_{2} \\\\\n",
        "b_{1} & b_{2} \\\\\n",
        "\\vdots & \\vdots \\\\\n",
        "b_{1} & b_{2} \\\\\n",
        "\\end{array} \\right]\n",
        "$$\n",
        "\n"
      ]
    },
    {
      "cell_type": "code",
      "metadata": {
        "colab": {
          "base_uri": "https://localhost:8080/"
        },
        "id": "TY5rG75JoqLp",
        "outputId": "2de87c61-6b96-419d-91f7-d1b1d3cdee28"
      },
      "source": [
        "mu = np.mean(X, 0)\n",
        "sigma = np.std(X, 0)\n",
        "#normalizing the input\n",
        "X = (X-mu) / sigma\n",
        "X = np.hstack((np.ones((Y.size,1)),X))\n",
        "print(X.shape)\n",
        "\n"
      ],
      "execution_count": null,
      "outputs": [
        {
          "output_type": "stream",
          "name": "stdout",
          "text": [
            "(5, 4)\n"
          ]
        }
      ]
    },
    {
      "cell_type": "code",
      "metadata": {
        "colab": {
          "base_uri": "https://localhost:8080/"
        },
        "id": "_uiSoNE-oy0C",
        "outputId": "9b6732dc-1697-49fc-bf17-3fe871b42ecc"
      },
      "source": [
        "\n",
        "# Weights and biases\n",
        "\n",
        "rg = np.random.default_rng(111)\n",
        "w = rg.random((1, 4))\n",
        "print(w)\n"
      ],
      "execution_count": 13,
      "outputs": [
        {
          "output_type": "stream",
          "name": "stdout",
          "text": [
            "[[0.15366136 0.1693033  0.50596431 0.65811887]]\n"
          ]
        }
      ]
    },
    {
      "cell_type": "markdown",
      "metadata": {
        "id": "-WfrO8Z3o6pQ"
      },
      "source": [
        "Because we've started with random weights and biases, the model does not perform a good job of predicting the target varaibles.\n",
        "\n",
        "## Loss Function\n",
        "\n",
        "We can compare the predictions with the actual targets, using the following method: \n",
        "* Calculate the difference between the two matrices (`preds` and `targets`).\n",
        "* Square all elements of the difference matrix to remove negative values.\n",
        "* Calculate the average of the elements in the resulting matrix.\n",
        "\n",
        "The result is a single number, known as the **mean squared error** (MSE).\n",
        "\n"
      ]
    },
    {
      "cell_type": "code",
      "metadata": {
        "id": "fxFSqX1co4BD"
      },
      "source": [
        "\n",
        "# MSE loss\n",
        "def mse(t1, t2):\n",
        "    diff = t1 - t2\n",
        "    return np.sum(diff * diff) / diff.size\n",
        "\n",
        "# Define the model\n",
        "def model(x,w):\n",
        "    return x @ w.T\n"
      ],
      "execution_count": 14,
      "outputs": []
    },
    {
      "cell_type": "code",
      "metadata": {
        "colab": {
          "base_uri": "https://localhost:8080/"
        },
        "id": "pf_cLAERpBKe",
        "outputId": "85b32546-d2b0-44a8-e481-d1e8bc17c630"
      },
      "source": [
        "\n",
        "# Compute error\n",
        "preds = model(X,w)\n",
        "cost_initial = mse(preds, Y)\n",
        "print(\"before regression, cost is : \", cost_initial)\n",
        "\n"
      ],
      "execution_count": 15,
      "outputs": [
        {
          "output_type": "stream",
          "name": "stdout",
          "text": [
            "before regression, cost is :  6902.067408005436\n"
          ]
        }
      ]
    },
    {
      "cell_type": "markdown",
      "metadata": {
        "id": "Gzj1crK2pGq8"
      },
      "source": [
        "## Compute Gradients\n"
      ]
    },
    {
      "cell_type": "code",
      "metadata": {
        "id": "3az9ly7TpDjk"
      },
      "source": [
        "\n",
        "# Compute gradients\n",
        "\n",
        "def gradient_descent(X, y, w, learning_rate, n_iters):\n",
        "    history = np.zeros((n_iters, 1))\n",
        "    for i in range(n_iters):\n",
        "        h = model(X, w)\n",
        "        diff = h - y\n",
        "        delta = (learning_rate / Y.size) * (X.T@diff)\n",
        "        new_w = w - delta.T\n",
        "        w = new_w\n",
        "        history[i] = mse(h, y)\n",
        "    return (history, w)\n"
      ],
      "execution_count": 16,
      "outputs": []
    },
    {
      "cell_type": "markdown",
      "metadata": {
        "id": "1m34U0hmpN-R"
      },
      "source": [
        "\n",
        "A key insight from calculus is that the gradient indicates the rate of change of the loss, or the slope of the loss function w.r.t. the weights and biases. \n",
        "\n",
        "* If a gradient element is **postive**, \n",
        "    * **increasing** the element's value slightly will **increase** the loss.\n",
        "    * **decreasing** the element's value slightly will **decrease** the loss.\n",
        "\n",
        "\n",
        "\n",
        "\n",
        "* If a gradient element is **negative**,\n",
        "    * **increasing** the element's value slightly will **decrease** the loss.\n",
        "    * **decreasing** the element's value slightly will **increase** the loss.\n",
        "    \n",
        "\n",
        "\n",
        "The increase or decrease is proportional to the value of the gradient.\n",
        "\n",
        "## Adjust weights and biases using gradient descent\n",
        "\n",
        "We'll reduce the loss and improve our model using the gradient descent algorithm, which has the following steps:\n",
        "\n",
        "1. Generate predictions\n",
        "2. Calculate the loss\n",
        "3. Compute gradients w.r.t the weights and biases\n",
        "4. Adjust the weights by subtracting a small quantity proportional to the gradient\n",
        "5. Reset the gradients to zero\n",
        "\n",
        "## Train for multiple iteration\n",
        "\n",
        "To reduce the loss further, we repeat the process of adjusting the weights and biases using the gradients multiple times. Each iteration is called an epoch.\n"
      ]
    },
    {
      "cell_type": "code",
      "metadata": {
        "colab": {
          "base_uri": "https://localhost:8080/"
        },
        "id": "J16k2ZLSpLSm",
        "outputId": "f5185c07-0893-4378-919b-f0871cd4539e"
      },
      "source": [
        "\n",
        "import matplotlib.pyplot as plt\n",
        "n_iters = 400\n",
        "learning_rate = 0.01\n",
        "\n",
        "initial_cost = mse(model(X, w),Y)\n",
        "\n",
        "print(\"Initial cost is: \", initial_cost, \"\\n\")\n",
        "\n",
        "(history, optimal_params) = gradient_descent(X, Y, w, learning_rate, n_iters)\n",
        "\n",
        "print(\"Optimal parameters are: \\n\", optimal_params, \"\\n\")\n",
        "\n",
        "print(\"Final cost is: \", history[-1])\n",
        "\n"
      ],
      "execution_count": 17,
      "outputs": [
        {
          "output_type": "stream",
          "name": "stdout",
          "text": [
            "Initial cost is:  6902.067408005436 \n",
            "\n",
            "Optimal parameters are: \n",
            " [[74.83492646 -4.39332885 23.28447044 11.23419769]] \n",
            "\n",
            "Final cost is:  [6.5811313]\n"
          ]
        }
      ]
    },
    {
      "cell_type": "code",
      "metadata": {
        "colab": {
          "base_uri": "https://localhost:8080/",
          "height": 295
        },
        "id": "XvtxivfepTrU",
        "outputId": "0c8ffc72-f1cf-4c2a-cf8e-4a8b7b605cfc"
      },
      "source": [
        "\n",
        "import matplotlib.pyplot as plt\n",
        "\n",
        "plt.plot(range(len(history)), history, 'b')\n",
        "\n",
        "plt.title(\"Convergence Graph of Cost Function\")\n",
        "plt.xlabel(\"Number of Iterations\")\n",
        "plt.ylabel(\"Cost\")\n",
        "plt.show()\n"
      ],
      "execution_count": 18,
      "outputs": [
        {
          "output_type": "display_data",
          "data": {
            "image/png": "[encoded data removed]",
            "text/plain": [
              "<Figure size 432x288 with 1 Axes>"
            ]
          },
          "metadata": {
            "needs_background": "light"
          }
        }
      ]
    },
    {
      "cell_type": "code",
      "metadata": {
        "colab": {
          "base_uri": "https://localhost:8080/"
        },
        "id": "SuoesYLspWtN",
        "outputId": "2014d3c1-c33c-4d67-c316-34c458690ae3"
      },
      "source": [
        "\n",
        "# Calculate error\n",
        "preds = model(X, optimal_params)\n",
        "cost_final = mse(preds, Y)\n",
        "\n",
        "# Print predictions\n",
        "print(\"Prediction:\\n\",preds)\n",
        "\n",
        "# Comparing predicted with targets\n",
        "print(\"\\nTargets:\\n\", Y)"
      ],
      "execution_count": 19,
      "outputs": [
        {
          "output_type": "stream",
          "name": "stdout",
          "text": [
            "Prediction:\n",
            " [[ 54.48998785]\n",
            " [ 82.89769221]\n",
            " [114.20909011]\n",
            " [ 20.14323763]\n",
            " [102.43462332]]\n",
            "\n",
            "Targets:\n",
            " [[ 56.]\n",
            " [ 81.]\n",
            " [119.]\n",
            " [ 22.]\n",
            " [103.]]\n"
          ]
        }
      ]
    },
    {
      "cell_type": "code",
      "metadata": {
        "colab": {
          "base_uri": "https://localhost:8080/"
        },
        "id": "TNHeoTfopYRN",
        "outputId": "2dc62d42-3702-4a1a-e914-3024668333d6"
      },
      "source": [
        "\n",
        "print(\"Cost after linear regression: \", cost_final)\n",
        "print(\"Cost reduction : {} %\".format(((cost_initial- cost_final) / cost_initial) * 100))"
      ],
      "execution_count": 20,
      "outputs": [
        {
          "output_type": "stream",
          "name": "stdout",
          "text": [
            "Cost after linear regression:  6.520281464468852\n",
            "Cost reduction : 99.90553147225269 %\n"
          ]
        }
      ]
    }
  ]
}