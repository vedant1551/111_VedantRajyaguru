{
  "nbformat": 4,
  "nbformat_minor": 0,
  "metadata": {
    "colab": {
      "name": "ce111__lab4_Task1_DT_weather.ipynb",
      "provenance": [],
      "collapsed_sections": []
    },
    "kernelspec": {
      "name": "python3",
      "display_name": "Python 3"
    },
    "language_info": {
      "name": "python"
    }
  },
  "cells": [
    {
      "cell_type": "code",
      "metadata": {
        "id": "dGK80hZQmVBJ"
      },
      "source": [
        "#Import library\n",
        "from sklearn import preprocessing\n",
        "from sklearn import datasets\n",
        "from sklearn.tree import DecisionTreeClassifier\n",
        "import pandas as pd\n",
        "import numpy as np\n",
        "\n"
      ],
      "execution_count": 1,
      "outputs": []
    },
    {
      "cell_type": "code",
      "metadata": {
        "id": "bG3BtDybqTBZ"
      },
      "source": [
        "\n",
        "#Predictor variables\n",
        "Outlook = ['Rainy', 'Rainy', 'Overcast', 'Sunny', 'Sunny', 'Sunny', 'Overcast',\n",
        "            'Rainy', 'Rainy', 'Sunny', 'Rainy','Overcast', 'Overcast', 'Sunny']\n",
        "Temperature = ['Hot', 'Hot', 'Hot', 'Mild', 'Cool', 'Cool', 'Cool',\n",
        "                'Mild', 'Cool', 'Mild', 'Mild', 'Mild', 'Hot', 'Mild']\n",
        "Humidity = ['High', 'High', 'High', 'High', 'Normal', 'Normal', 'Normal',\n",
        "            'High', 'Normal', 'Normal', 'Normal', 'High', 'Normal', 'High']\n",
        "Wind = ['False', 'True', 'False', 'False', 'False', 'True', 'True',\n",
        "            'False', 'False', 'False', 'True', 'True', 'False', 'True']\n",
        "\n",
        "#Class Label:\n",
        "Play = ['No', 'No', 'Yes', 'Yes', 'Yes', 'No', 'Yes', 'No',\n",
        "'Yes', 'Yes', 'Yes', 'Yes', 'Yes', 'No']\n",
        "\n"
      ],
      "execution_count": 2,
      "outputs": []
    },
    {
      "cell_type": "code",
      "metadata": {
        "colab": {
          "base_uri": "https://localhost:8080/"
        },
        "id": "DwjynTYkqWcH",
        "outputId": "f3f5070c-d416-47ea-9725-96fdb4a3a646"
      },
      "source": [
        "#creating labelEncoder\n",
        "le = preprocessing.LabelEncoder()\n",
        "\n",
        "# Converting string labels into numbers.\n",
        "Outlook_encoded = le.fit_transform(Outlook)\n",
        "Outlook_name_mapping = dict(zip(le.classes_, le.transform(le.classes_)))\n",
        "print(\"Outllok mapping:\",Outlook_name_mapping)\n",
        "\n",
        "Temperature_encoded = le.fit_transform(Temperature)\n",
        "Temperature_name_mapping = dict(zip(le.classes_, le.transform(le.classes_)))\n",
        "print(\"Temperature mapping:\",Temperature_name_mapping)\n",
        "\n",
        "Humidity_encoded = le.fit_transform(Humidity)\n",
        "Humidity_name_mapping = dict(zip(le.classes_, le.transform(le.classes_)))\n",
        "print(\"Humidity mapping:\",Humidity_name_mapping)\n",
        "\n",
        "Wind_encoded = le.fit_transform(Wind)\n",
        "Wind_name_mapping = dict(zip(le.classes_, le.transform(le.classes_)))\n",
        "print(\"Wind mapping:\",Wind_name_mapping)\n",
        "\n",
        "Play_encoded = le.fit_transform(Play)\n",
        "Play_name_mapping = dict(zip(le.classes_, le.transform(le.classes_)))\n",
        "print(\"Play mapping:\",Play_name_mapping)\n",
        "\n",
        "print(\"\\n\\n\")\n",
        "print(\"Weather:\" ,Outlook_encoded)\n",
        "print(\"Temerature:\" ,Temperature_encoded)\n",
        "print(\"Humidity:\" ,Humidity_encoded)\n",
        "print(\"Wind:\" ,Wind_encoded)\n",
        "print(\"Play:\" ,Play_encoded)\n",
        "\n"
      ],
      "execution_count": 3,
      "outputs": [
        {
          "output_type": "stream",
          "name": "stdout",
          "text": [
            "Outllok mapping: {'Overcast': 0, 'Rainy': 1, 'Sunny': 2}\n",
            "Temperature mapping: {'Cool': 0, 'Hot': 1, 'Mild': 2}\n",
            "Humidity mapping: {'High': 0, 'Normal': 1}\n",
            "Wind mapping: {'False': 0, 'True': 1}\n",
            "Play mapping: {'No': 0, 'Yes': 1}\n",
            "\n",
            "\n",
            "\n",
            "Weather: [1 1 0 2 2 2 0 1 1 2 1 0 0 2]\n",
            "Temerature: [1 1 1 2 0 0 0 2 0 2 2 2 1 2]\n",
            "Humidity: [0 0 0 0 1 1 1 0 1 1 1 0 1 0]\n",
            "Wind: [0 1 0 0 0 1 1 0 0 0 1 1 0 1]\n",
            "Play: [0 0 1 1 1 0 1 0 1 1 1 1 1 0]\n"
          ]
        }
      ]
    },
    {
      "cell_type": "code",
      "metadata": {
        "colab": {
          "base_uri": "https://localhost:8080/"
        },
        "id": "gVeO1VSntDly",
        "outputId": "c495bf1c-534f-4def-fb6e-b23af77a2f51"
      },
      "source": [
        "weather=pd.DataFrame(Outlook_encoded, columns=['Outlook'])\n",
        "weather['Temperature']=pd.DataFrame(Temperature_encoded, columns=['Temperature'])\n",
        "weather['Humidity']=pd.DataFrame(Humidity_encoded, columns=['Humidity'])\n",
        "weather['Wind']=pd.DataFrame(Wind_encoded, columns=['Wind'])\n",
        "weather['Play']=pd.DataFrame(Play_encoded, columns=['Play'])\n",
        "print(weather)\n",
        "\n"
      ],
      "execution_count": 4,
      "outputs": [
        {
          "output_type": "stream",
          "name": "stdout",
          "text": [
            "    Outlook  Temperature  Humidity  Wind  Play\n",
            "0         1            1         0     0     0\n",
            "1         1            1         0     1     0\n",
            "2         0            1         0     0     1\n",
            "3         2            2         0     0     1\n",
            "4         2            0         1     0     1\n",
            "5         2            0         1     1     0\n",
            "6         0            0         1     1     1\n",
            "7         1            2         0     0     0\n",
            "8         1            0         1     0     1\n",
            "9         2            2         1     0     1\n",
            "10        1            2         1     1     1\n",
            "11        0            2         0     1     1\n",
            "12        0            1         1     0     1\n",
            "13        2            2         0     1     0\n"
          ]
        }
      ]
    },
    {
      "cell_type": "code",
      "metadata": {
        "id": "niCwy_9mtJC2"
      },
      "source": [
        "from sklearn.model_selection import train_test_split\n",
        "X=weather.values[:,0:4]\n",
        "Y=weather.values[:,-1]\n",
        "X_train, X_test, y_train, y_test = train_test_split( \n",
        "    X, Y, test_size = 0.15, random_state = 111)\n",
        "\n",
        "\n"
      ],
      "execution_count": 21,
      "outputs": []
    },
    {
      "cell_type": "code",
      "metadata": {
        "colab": {
          "base_uri": "https://localhost:8080/"
        },
        "id": "5xfEHFpWtK6O",
        "outputId": "edbec354-890f-4bec-c54c-bfda4003bade"
      },
      "source": [
        "#Create a Decision Tree Classifier (using Gini)\n",
        "clf_gini = DecisionTreeClassifier(criterion = \"gini\",\n",
        "            random_state = 0,max_depth=7, min_samples_leaf=10)\n",
        "\n",
        "clf_gini.fit(X_train, y_train)\n",
        "\n"
      ],
      "execution_count": 22,
      "outputs": [
        {
          "output_type": "execute_result",
          "data": {
            "text/plain": [
              "DecisionTreeClassifier(ccp_alpha=0.0, class_weight=None, criterion='gini',\n",
              "                       max_depth=7, max_features=None, max_leaf_nodes=None,\n",
              "                       min_impurity_decrease=0.0, min_impurity_split=None,\n",
              "                       min_samples_leaf=10, min_samples_split=2,\n",
              "                       min_weight_fraction_leaf=0.0, presort='deprecated',\n",
              "                       random_state=0, splitter='best')"
            ]
          },
          "metadata": {},
          "execution_count": 22
        }
      ]
    },
    {
      "cell_type": "code",
      "metadata": {
        "colab": {
          "base_uri": "https://localhost:8080/"
        },
        "id": "lBKJYS0AtPA7",
        "outputId": "58496b6a-11e8-493d-f6fc-137a1557f979"
      },
      "source": [
        "# Predict the classes of test data\n",
        "y_pred = clf_gini.predict(X_test)\n",
        "print(\"Predicted values:\")\n",
        "print(y_pred)\n",
        "\n"
      ],
      "execution_count": 23,
      "outputs": [
        {
          "output_type": "stream",
          "name": "stdout",
          "text": [
            "Predicted values:\n",
            "[1 1 1]\n"
          ]
        }
      ]
    },
    {
      "cell_type": "code",
      "metadata": {
        "colab": {
          "base_uri": "https://localhost:8080/"
        },
        "id": "khj_jryKtQVF",
        "outputId": "3b568d35-10f1-4561-8b3e-99e43b1c64ba"
      },
      "source": [
        "# Model Accuracy\n",
        "from sklearn import metrics\n",
        "print(\"Confusion Matrix: \",\n",
        "        metrics.confusion_matrix(y_test, y_pred))\n",
        "print (\"Accuracy : \",\n",
        "    metrics.accuracy_score(y_test,y_pred)*100)\n",
        "print(\"Report : \",\n",
        "    metrics.classification_report(y_test, y_pred))\n"
      ],
      "execution_count": 24,
      "outputs": [
        {
          "output_type": "stream",
          "name": "stdout",
          "text": [
            "Confusion Matrix:  [[0 2]\n",
            " [0 1]]\n",
            "Accuracy :  33.33333333333333\n",
            "Report :                precision    recall  f1-score   support\n",
            "\n",
            "           0       0.00      0.00      0.00         2\n",
            "           1       0.33      1.00      0.50         1\n",
            "\n",
            "    accuracy                           0.33         3\n",
            "   macro avg       0.17      0.50      0.25         3\n",
            "weighted avg       0.11      0.33      0.17         3\n",
            "\n"
          ]
        },
        {
          "output_type": "stream",
          "name": "stderr",
          "text": [
            "/usr/local/lib/python3.7/dist-packages/sklearn/metrics/_classification.py:1272: UndefinedMetricWarning: Precision and F-score are ill-defined and being set to 0.0 in labels with no predicted samples. Use `zero_division` parameter to control this behavior.\n",
            "  _warn_prf(average, modifier, msg_start, len(result))\n"
          ]
        }
      ]
    },
    {
      "cell_type": "code",
      "metadata": {
        "id": "8R01D0W8vo9C"
      },
      "source": [
        "from sklearn.tree import export_graphviz\n",
        "export_graphviz(clf_gini,out_file='tree_gini.dot',\n",
        "                feature_names=['outlook','temperature','humidity','wind'],\n",
        "                class_names=['play_no','play_yes'], \n",
        "                filled=True)\n",
        "\n",
        "# Convert to png\n",
        "from subprocess import call\n",
        "call(['dot', '-Tpng', 'tree_gini.dot', '-o', 'tree_gini.png', '-Gdpi=600'])\n",
        "\n",
        "# Display in python\n",
        "import matplotlib.pyplot as plt\n",
        "plt.figure(figsize = (14, 18))\n",
        "plt.imshow(plt.imread('tree_gini.png'))\n",
        "plt.axis('off');\n",
        "plt.show();"
      ],
      "execution_count": null,
      "outputs": []
    }
  ]
}