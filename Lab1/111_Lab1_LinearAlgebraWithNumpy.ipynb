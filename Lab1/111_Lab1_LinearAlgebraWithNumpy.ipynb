{
 "cells": [
  {
   "cell_type": "code",
   "execution_count": 10,
   "metadata": {
    "colab": {
     "base_uri": "https://localhost:8080/"
    },
    "id": "eZzmjIupuzI5",
    "outputId": "a3a43088-287a-4053-b216-a5bcc46f973c"
   },
   "outputs": [
    {
     "name": "stdout",
     "output_type": "stream",
     "text": [
      "3 x 2 matrix is below : \n",
      " [[1 1]\n",
      " [2 2]\n",
      " [3 3]]\n",
      "\n",
      " 2 x 3 matrix is below: \n",
      " [[1 2 3]\n",
      " [4 5 6]]\n"
     ]
    }
   ],
   "source": [
    "import numpy as np\n",
    "import pandas as pd\n",
    "\n",
    "matrix1 = np.array([[1, 1], [2, 2], [3, 3]])\n",
    "matrix2 = np.array([[1, 2, 3], [4, 5, 6]])\n",
    "\n",
    "print('3 x 2 matrix is below : \\n', matrix1)\n",
    "print('\\n 2 x 3 matrix is below: \\n', matrix2)"
   ]
  },
  {
   "cell_type": "code",
   "execution_count": 11,
   "metadata": {
    "colab": {
     "base_uri": "https://localhost:8080/"
    },
    "id": "y_vFGpTCwqgl",
    "outputId": "3bb45aae-af41-48aa-f92c-8e33cc029fe6"
   },
   "outputs": [
    {
     "name": "stdout",
     "output_type": "stream",
     "text": [
      "[[0.66215119 0.3298971  0.78208529 0.35758799]\n",
      " [0.79301901 0.41122753 0.3911968  0.42214953]\n",
      " [0.42758778 0.3704204  0.98750293 0.15698083]]\n"
     ]
    }
   ],
   "source": [
    "random_matrix = np.random.rand(3, 4)\n",
    "print(random_matrix)"
   ]
  },
  {
   "cell_type": "code",
   "execution_count": 12,
   "metadata": {
    "colab": {
     "base_uri": "https://localhost:8080/"
    },
    "id": "aXc-DdSc1FIW",
    "outputId": "8110bec9-74e0-4cb6-aacc-55942a7bcf35"
   },
   "outputs": [
    {
     "name": "stdout",
     "output_type": "stream",
     "text": [
      "[[ 5  7  9]\n",
      " [10 14 18]\n",
      " [15 21 27]]\n"
     ]
    }
   ],
   "source": [
    "# matrix multiplication\n",
    "m3 = np.dot(matrix1, matrix2)\n",
    "print(m3)"
   ]
  },
  {
   "cell_type": "code",
   "execution_count": 13,
   "metadata": {
    "colab": {
     "base_uri": "https://localhost:8080/"
    },
    "id": "vS720pKU1jwS",
    "outputId": "9664d541-17ca-4d82-ac70-8e9dcf7228db"
   },
   "outputs": [
    {
     "name": "stdout",
     "output_type": "stream",
     "text": [
      "Element-wise multiplication : \n",
      " [[5, 7, 9], [10, 14, 18], [15, 21, 27]]\n"
     ]
    }
   ],
   "source": [
    "# elemet wise matrix multiplication\n",
    "result = [[0 for x in range(len(matrix1))] for y in range(len(matrix2[0]))]\n",
    "\n",
    "for i in range(len(matrix1)): \n",
    "  for j in range(len(matrix2[0])): \n",
    "    for k in range(len(matrix2)): \n",
    "      result[i][j] += matrix1[i][k] * matrix2[k][j]\n",
    " \n",
    "print('Element-wise multiplication : \\n', result)"
   ]
  },
  {
   "cell_type": "code",
   "execution_count": 14,
   "metadata": {
    "colab": {
     "base_uri": "https://localhost:8080/"
    },
    "id": "1qUUvFfC6Rgn",
    "outputId": "ad589d3f-8b5a-431b-c515-bf8503ba5425"
   },
   "outputs": [
    {
     "name": "stdout",
     "output_type": "stream",
     "text": [
      "2.0\n"
     ]
    }
   ],
   "source": [
    "mean = np.mean(matrix1)\n",
    "print(mean)"
   ]
  },
  {
   "cell_type": "code",
   "execution_count": 9,
   "metadata": {
    "id": "i_dClDLp8DxX"
   },
   "outputs": [
    {
     "name": "stdout",
     "output_type": "stream",
     "text": [
      "                  model   mpg  cyl   disp   hp  drat     wt   qsec  vs  am  \\\n",
      "0             Mazda RX4  21.0    6  160.0  110  3.90  2.620  16.46   0   1   \n",
      "1         Mazda RX4 Wag  21.0    6  160.0  110  3.90  2.875  17.02   0   1   \n",
      "2            Datsun 710  22.8    4  108.0   93  3.85  2.320  18.61   1   1   \n",
      "3        Hornet 4 Drive  21.4    6  258.0  110  3.08  3.215  19.44   1   0   \n",
      "4     Hornet Sportabout  18.7    8  360.0  175  3.15  3.440  17.02   0   0   \n",
      "5               Valiant  18.1    6  225.0  105  2.76  3.460  20.22   1   0   \n",
      "6            Duster 360  14.3    8  360.0  245  3.21  3.570  15.84   0   0   \n",
      "7             Merc 240D  24.4    4  146.7   62  3.69  3.190  20.00   1   0   \n",
      "8              Merc 230  22.8    4  140.8   95  3.92  3.150  22.90   1   0   \n",
      "9              Merc 280  19.2    6  167.6  123  3.92  3.440  18.30   1   0   \n",
      "10            Merc 280C  17.8    6  167.6  123  3.92  3.440  18.90   1   0   \n",
      "11           Merc 450SE  16.4    8  275.8  180  3.07  4.070  17.40   0   0   \n",
      "12           Merc 450SL  17.3    8  275.8  180  3.07  3.730  17.60   0   0   \n",
      "13          Merc 450SLC  15.2    8  275.8  180  3.07  3.780  18.00   0   0   \n",
      "14   Cadillac Fleetwood  10.4    8  472.0  205  2.93  5.250  17.98   0   0   \n",
      "15  Lincoln Continental  10.4    8  460.0  215  3.00  5.424  17.82   0   0   \n",
      "16    Chrysler Imperial  14.7    8  440.0  230  3.23  5.345  17.42   0   0   \n",
      "17             Fiat 128  32.4    4   78.7   66  4.08  2.200  19.47   1   1   \n",
      "18          Honda Civic  30.4    4   75.7   52  4.93  1.615  18.52   1   1   \n",
      "19       Toyota Corolla  33.9    4   71.1   65  4.22  1.835  19.90   1   1   \n",
      "20        Toyota Corona  21.5    4  120.1   97  3.70  2.465  20.01   1   0   \n",
      "21     Dodge Challenger  15.5    8  318.0  150  2.76  3.520  16.87   0   0   \n",
      "22          AMC Javelin  15.2    8  304.0  150  3.15  3.435  17.30   0   0   \n",
      "23           Camaro Z28  13.3    8  350.0  245  3.73  3.840  15.41   0   0   \n",
      "24     Pontiac Firebird  19.2    8  400.0  175  3.08  3.845  17.05   0   0   \n",
      "25            Fiat X1-9  27.3    4   79.0   66  4.08  1.935  18.90   1   1   \n",
      "26        Porsche 914-2  26.0    4  120.3   91  4.43  2.140  16.70   0   1   \n",
      "27         Lotus Europa  30.4    4   95.1  113  3.77  1.513  16.90   1   1   \n",
      "28       Ford Pantera L  15.8    8  351.0  264  4.22  3.170  14.50   0   1   \n",
      "29         Ferrari Dino  19.7    6  145.0  175  3.62  2.770  15.50   0   1   \n",
      "30        Maserati Bora  15.0    8  301.0  335  3.54  3.570  14.60   0   1   \n",
      "31           Volvo 142E  21.4    4  121.0  109  4.11  2.780  18.60   1   1   \n",
      "\n",
      "    gear  carb  \n",
      "0      4     4  \n",
      "1      4     4  \n",
      "2      4     1  \n",
      "3      3     1  \n",
      "4      3     2  \n",
      "5      3     1  \n",
      "6      3     4  \n",
      "7      4     2  \n",
      "8      4     2  \n",
      "9      4     4  \n",
      "10     4     4  \n",
      "11     3     3  \n",
      "12     3     3  \n",
      "13     3     3  \n",
      "14     3     4  \n",
      "15     3     4  \n",
      "16     3     4  \n",
      "17     4     1  \n",
      "18     4     2  \n",
      "19     4     1  \n",
      "20     3     1  \n",
      "21     3     2  \n",
      "22     3     2  \n",
      "23     3     4  \n",
      "24     3     2  \n",
      "25     4     1  \n",
      "26     5     2  \n",
      "27     5     2  \n",
      "28     5     4  \n",
      "29     5     6  \n",
      "30     5     8  \n",
      "31     4     2  \n"
     ]
    }
   ],
   "source": [
    "data = pd.read_csv('mtcars.csv')\n",
    "print (data)"
   ]
  },
  {
   "cell_type": "code",
   "execution_count": 15,
   "metadata": {
    "colab": {
     "base_uri": "https://localhost:8080/"
    },
    "id": "HZ2zXizbAsgP",
    "outputId": "f3b23da0-c798-42a7-cb56-720b44c4c51d"
   },
   "outputs": [
    {
     "name": "stdout",
     "output_type": "stream",
     "text": [
      "        mpg     cyl        disp       hp      drat       wt     qsec      vs  \\\n",
      "0  0.909375 -0.1875  -70.721875 -36.6875  0.303437 -0.59725 -1.38875 -0.4375   \n",
      "1  0.909375 -0.1875  -70.721875 -36.6875  0.303437 -0.34225 -0.82875 -0.4375   \n",
      "2  2.709375 -2.1875 -122.721875 -53.6875  0.253437 -0.89725  0.76125  0.5625   \n",
      "3  1.309375 -0.1875   27.278125 -36.6875 -0.516563 -0.00225  1.59125  0.5625   \n",
      "4 -1.390625  1.8125  129.278125  28.3125 -0.446563  0.22275 -0.82875 -0.4375   \n",
      "\n",
      "        am    gear    carb  \n",
      "0  0.59375  0.3125  1.1875  \n",
      "1  0.59375  0.3125  1.1875  \n",
      "2  0.59375  0.3125 -1.8125  \n",
      "3 -0.40625 -0.6875 -1.8125  \n",
      "4 -0.40625 -0.6875 -0.8125  \n"
     ]
    }
   ],
   "source": [
    "#author - CE111 \n",
    "del data['model']\n",
    "\n",
    "meancenter = data.apply(lambda e: e - e.mean())\n",
    "print(meancenter.head())\n",
    "\n"
   ]
  },
  {
   "cell_type": "code",
   "execution_count": null,
   "metadata": {},
   "outputs": [],
   "source": []
  }
 ],
 "metadata": {
  "colab": {
   "collapsed_sections": [],
   "name": "090_Lab1_LinearAlgebraWithNumpy.ipynb",
   "provenance": []
  },
  "kernelspec": {
   "display_name": "Python 3",
   "language": "python",
   "name": "python3"
  },
  "language_info": {
   "codemirror_mode": {
    "name": "ipython",
    "version": 3
   },
   "file_extension": ".py",
   "mimetype": "text/x-python",
   "name": "python",
   "nbconvert_exporter": "python",
   "pygments_lexer": "ipython3",
   "version": "3.7.4"
  }
 },
 "nbformat": 4,
 "nbformat_minor": 1
}
