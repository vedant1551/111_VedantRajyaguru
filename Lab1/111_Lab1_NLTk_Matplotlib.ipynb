{
 "cells": [
  {
   "cell_type": "code",
   "execution_count": 5,
   "metadata": {
    "id": "qfZ9zKYXn7mt"
   },
   "outputs": [],
   "source": [
    "import nltk\n",
    "import matplotlib.pyplot as plt\n",
    "import pandas as pd"
   ]
  },
  {
   "cell_type": "code",
   "execution_count": 6,
   "metadata": {
    "colab": {
     "base_uri": "https://localhost:8080/"
    },
    "id": "efz-9nBPN-Lw",
    "outputId": "332ea71a-5972-43dc-ca20-cecd4b3618e7"
   },
   "outputs": [
    {
     "name": "stdout",
     "output_type": "stream",
     "text": [
      "Discussing climate, sustainability, and preserving the natural world with President @EmmanuelMacron today in Paris. BezosEarthFund ClimatePledge\n"
     ]
    }
   ],
   "source": [
    "# text analysis\n",
    "text = \"\"\"Discussing climate, sustainability, and preserving the natural world with President @EmmanuelMacron today in Paris. #BezosEarthFund #ClimatePledge\"\"\"\n",
    "\n",
    "import re\n",
    "import string\n",
    "from nltk.corpus import stopwords\n",
    "from nltk.stem import PorterStemmer\n",
    "from nltk.tokenize import TweetTokenizer\n",
    "\n",
    "remove_link = re.sub(f'https?:\\/\\/.*[\\r\\n]*', '', text)\n",
    "remove_link = re.sub(r'#', '', remove_link)\n",
    "print(remove_link)"
   ]
  },
  {
   "cell_type": "code",
   "execution_count": 7,
   "metadata": {
    "colab": {
     "base_uri": "https://localhost:8080/"
    },
    "id": "-A7WllK8O2BD",
    "outputId": "5178f538-69e6-4958-d7c2-87eb884adb68"
   },
   "outputs": [
    {
     "name": "stdout",
     "output_type": "stream",
     "text": [
      "\u001b[92mDiscussing climate, sustainability, and preserving the natural world with President @EmmanuelMacron today in Paris. #BezosEarthFund #ClimatePledge\n",
      "\u001b[92mDiscussing climate, sustainability, and preserving the natural world with President @EmmanuelMacron today in Paris. BezosEarthFund ClimatePledge\n"
     ]
    }
   ],
   "source": [
    "print('\\033[92m' + text)\n",
    "print('\\033[92m' + remove_link)"
   ]
  },
  {
   "cell_type": "code",
   "execution_count": 8,
   "metadata": {
    "colab": {
     "base_uri": "https://localhost:8080/"
    },
    "id": "naw66Y2BO8hg",
    "outputId": "71d63eee-200b-4df6-e4e6-7ed3b9392533"
   },
   "outputs": [
    {
     "name": "stderr",
     "output_type": "stream",
     "text": [
      "[nltk_data] Downloading package punkt to C:\\Users\\vedant\n",
      "[nltk_data]     rajyaguru\\AppData\\Roaming\\nltk_data...\n",
      "[nltk_data]   Unzipping tokenizers\\punkt.zip.\n"
     ]
    },
    {
     "name": "stdout",
     "output_type": "stream",
     "text": [
      "['Hello Mr. steve, how you doing?', 'whats up?', 'The weather is great, and city is awesome.', 'how you doing?', 'The sky is pinkish-blue.', \"You shouldn't eat cardboard, how you doing?\", 'We are proud of DDU.']\n"
     ]
    }
   ],
   "source": [
    "from nltk.tokenize import sent_tokenize\n",
    "\n",
    "text = \"\"\"Hello Mr. steve, how you doing? whats up? The weather is great, and city is awesome. how you doing? The sky is pinkish-blue. \n",
    "You shouldn't eat cardboard, how you doing? We are proud of DDU.\"\"\"\n",
    "nltk.download('punkt')\n",
    "tokenized_text = sent_tokenize(text)\n",
    "print(tokenized_text)"
   ]
  },
  {
   "cell_type": "code",
   "execution_count": 9,
   "metadata": {
    "colab": {
     "base_uri": "https://localhost:8080/"
    },
    "id": "8UubfzEhPaZl",
    "outputId": "dcf1995e-f8ef-4972-a6c4-71c8ee50461a"
   },
   "outputs": [
    {
     "name": "stdout",
     "output_type": "stream",
     "text": [
      "['Hello', 'Mr.', 'steve', ',', 'how', 'you', 'doing', '?', 'whats', 'up', '?', 'The', 'weather', 'is', 'great', ',', 'and', 'city', 'is', 'awesome', '.', 'how', 'you', 'doing', '?', 'The', 'sky', 'is', 'pinkish-blue', '.', 'You', 'should', \"n't\", 'eat', 'cardboard', ',', 'how', 'you', 'doing', '?', 'We', 'are', 'proud', 'of', 'DDU', '.']\n"
     ]
    }
   ],
   "source": [
    "from nltk.tokenize import word_tokenize\n",
    "tokenized_word = word_tokenize(text)\n",
    "\n",
    "print(tokenized_word)"
   ]
  },
  {
   "cell_type": "code",
   "execution_count": 10,
   "metadata": {
    "colab": {
     "base_uri": "https://localhost:8080/",
     "height": 330
    },
    "id": "hV1elgAaPn7E",
    "outputId": "de5e5eaf-a7a6-44af-8061-f2cf94974907"
   },
   "outputs": [
    {
     "data": {
      "image/png": "[encoded data removed]",
      "text/plain": [
       "<Figure size 432x288 with 1 Axes>"
      ]
     },
     "metadata": {
      "needs_background": "light"
     },
     "output_type": "display_data"
    }
   ],
   "source": [
    "# frequency distribution\n",
    "from nltk.probability import FreqDist\n",
    "fredist = FreqDist(tokenized_word)\n",
    "fredist.most_common(4)\n",
    "\n",
    "#plotting frequency distribution\n",
    "import matplotlib.pyplot as plt\n",
    "fredist.plot(30, cumulative = False, color = 'blue')\n",
    "plt.show()"
   ]
  },
  {
   "cell_type": "code",
   "execution_count": 11,
   "metadata": {
    "colab": {
     "base_uri": "https://localhost:8080/"
    },
    "id": "FhB3jZWXQdKd",
    "outputId": "8f4f87b5-0547-4536-899d-7a2bc0905223"
   },
   "outputs": [
    {
     "name": "stderr",
     "output_type": "stream",
     "text": [
      "[nltk_data] Downloading package stopwords to C:\\Users\\vedant\n",
      "[nltk_data]     rajyaguru\\AppData\\Roaming\\nltk_data...\n"
     ]
    },
    {
     "name": "stdout",
     "output_type": "stream",
     "text": [
      "{'as', 'both', \"she's\", 'our', 'him', 'with', 'those', 'until', 'can', 'why', 'nor', 'through', 'between', 'shouldn', 'aren', 'further', 'd', 'has', 'into', 'shan', \"should've\", 'ours', 'under', 'wasn', 'i', 'hadn', 'a', 's', 'you', 'himself', 'o', 'such', 'most', \"you're\", 'this', 'them', 'not', 'needn', \"needn't\", 'while', 'they', 'because', 'for', 'these', 'does', 'did', 'be', 'haven', \"wouldn't\", \"mightn't\", 'its', 'were', 't', 'yourselves', 'been', 'mightn', 'who', 'themselves', \"couldn't\", \"it's\", \"haven't\", 'again', 'and', 'about', 'after', 'some', \"shouldn't\", 'y', 'any', 'yours', 'once', 'just', 'll', 'then', 'is', 'each', 'but', 'if', 'couldn', 'it', \"mustn't\", 'during', 'by', 'from', 'will', 'few', \"that'll\", 'in', 'how', 'too', 'against', 'we', 'that', 'whom', 'at', 'wouldn', 'than', 'own', \"you'd\", 'her', 've', 'over', 'out', \"don't\", 'ain', 'before', \"you'll\", 'yourself', 'she', \"didn't\", 'on', 'ma', 'mustn', 'where', 'which', \"doesn't\", 'the', 'theirs', 'should', 'their', 'was', 'now', 'my', 'weren', 'do', 'of', 'there', 'ourselves', 'hers', 'what', 'here', 'no', 'had', 'below', 'being', \"weren't\", 'won', 'doesn', \"wasn't\", 'more', 'herself', 'all', 'up', 'when', 'off', \"isn't\", 'above', \"aren't\", 'having', 'itself', 'so', 'or', 'm', 'isn', 'didn', \"shan't\", 'your', 'his', 'to', 'down', 're', 'only', 'am', \"won't\", 'very', \"hadn't\", 'hasn', 'don', 'have', 'are', 'me', 'doing', 'myself', \"hasn't\", \"you've\", 'he', 'an', 'same', 'other'}\n"
     ]
    },
    {
     "name": "stderr",
     "output_type": "stream",
     "text": [
      "[nltk_data]   Unzipping corpora\\stopwords.zip.\n"
     ]
    }
   ],
   "source": [
    "from nltk.corpus import stopwords\n",
    "nltk.download('stopwords')\n",
    "stop_words = set(stopwords.words('english'))\n",
    "print(stop_words)"
   ]
  },
  {
   "cell_type": "code",
   "execution_count": 12,
   "metadata": {
    "colab": {
     "base_uri": "https://localhost:8080/"
    },
    "id": "ooeyACgUQtpK",
    "outputId": "fe628772-ea40-44f5-b53a-516a1a44e117"
   },
   "outputs": [
    {
     "name": "stdout",
     "output_type": "stream",
     "text": [
      "Tokenized Sentence : \n",
      " ['Hello', 'Mr.', 'steve', ',', 'how', 'you', 'doing', '?', 'whats', 'up', '?', 'The', 'weather', 'is', 'great', ',', 'and', 'city', 'is', 'awesome', '.', 'how', 'you', 'doing', '?', 'The', 'sky', 'is', 'pinkish-blue', '.', 'You', 'should', \"n't\", 'eat', 'cardboard', ',', 'how', 'you', 'doing', '?', 'We', 'are', 'proud', 'of', 'DDU', '.']\n",
      "\n",
      "Filtered Sentence : \n",
      " ['Hello', 'Mr.', 'steve', ',', '?', 'whats', '?', 'The', 'weather', 'great', ',', 'city', 'awesome', '.', '?', 'The', 'sky', 'pinkish-blue', '.', 'You', \"n't\", 'eat', 'cardboard', ',', '?', 'We', 'proud', 'DDU', '.']\n"
     ]
    }
   ],
   "source": [
    "filtered_sentence = []\n",
    "for word in tokenized_word:\n",
    "  if word not in stop_words:\n",
    "    filtered_sentence.append(word)\n",
    "print('Tokenized Sentence : \\n', tokenized_word)\n",
    "print('\\nFiltered Sentence : \\n', filtered_sentence)"
   ]
  },
  {
   "cell_type": "code",
   "execution_count": 13,
   "metadata": {
    "colab": {
     "base_uri": "https://localhost:8080/"
    },
    "id": "aopr6n44RKrM",
    "outputId": "66d56902-e15f-485e-ee57-1972aac87569"
   },
   "outputs": [
    {
     "name": "stdout",
     "output_type": "stream",
     "text": [
      "Filtered Sentence : \n",
      " ['Hello', 'Mr.', 'steve', ',', '?', 'whats', '?', 'The', 'weather', 'great', ',', 'city', 'awesome', '.', '?', 'The', 'sky', 'pinkish-blue', '.', 'You', \"n't\", 'eat', 'cardboard', ',', '?', 'We', 'proud', 'DDU', '.']\n",
      "\n",
      "Stemmed Sentence : \n",
      " ['hello', 'mr.', 'steve', ',', '?', 'what', '?', 'the', 'weather', 'great', ',', 'citi', 'awesom', '.', '?', 'the', 'sky', 'pinkish-blu', '.', 'you', \"n't\", 'eat', 'cardboard', ',', '?', 'We', 'proud', 'ddu', '.']\n"
     ]
    }
   ],
   "source": [
    "from nltk.stem import PorterStemmer\n",
    "from nltk.tokenize import sent_tokenize, word_tokenize\n",
    "\n",
    "ps = PorterStemmer()\n",
    "stemmed_sentence = []\n",
    "for word in filtered_sentence:\n",
    "  stemmed_sentence.append(ps.stem(word))\n",
    "\n",
    "print('Filtered Sentence : \\n', filtered_sentence)\n",
    "print('\\nStemmed Sentence : \\n', stemmed_sentence)"
   ]
  },
  {
   "cell_type": "code",
   "execution_count": 15,
   "metadata": {
    "colab": {
     "base_uri": "https://localhost:8080/"
    },
    "id": "FDsRBcF8TNGv",
    "outputId": "ae24368a-d32c-46ae-a8f8-70689c7d2337"
   },
   "outputs": [
    {
     "name": "stdout",
     "output_type": "stream",
     "text": [
      "Lemmatized Word  :   cry\n",
      "Stemmed word  :   cri\n"
     ]
    },
    {
     "name": "stderr",
     "output_type": "stream",
     "text": [
      "[nltk_data] Downloading package wordnet to C:\\Users\\vedant\n",
      "[nltk_data]     rajyaguru\\AppData\\Roaming\\nltk_data...\n",
      "[nltk_data]   Package wordnet is already up-to-date!\n"
     ]
    }
   ],
   "source": [
    "# stemming and lemmatization\n",
    "\n",
    "from nltk.stem.wordnet import WordNetLemmatizer\n",
    "from nltk.stem.porter import PorterStemmer\n",
    "\n",
    "nltk.download('wordnet')\n",
    "lemmatizer = WordNetLemmatizer()\n",
    "\n",
    "ps = PorterStemmer()\n",
    "word = 'crying'\n",
    "print('Lemmatized Word  :  ', lemmatizer.lemmatize(word, 'v'))\n",
    "print('Stemmed word  :  ', ps.stem(word))"
   ]
  },
  {
   "cell_type": "code",
   "execution_count": null,
   "metadata": {},
   "outputs": [],
   "source": []
  },
  {
   "cell_type": "code",
   "execution_count": null,
   "metadata": {},
   "outputs": [],
   "source": []
  },
  {
   "cell_type": "code",
   "execution_count": null,
   "metadata": {},
   "outputs": [],
   "source": []
  }
 ],
 "metadata": {
  "colab": {
   "collapsed_sections": [],
   "name": "090_Lab1_NLTk_Matplotlib.ipynb",
   "provenance": []
  },
  "kernelspec": {
   "display_name": "Python 3",
   "language": "python",
   "name": "python3"
  },
  "language_info": {
   "codemirror_mode": {
    "name": "ipython",
    "version": 3
   },
   "file_extension": ".py",
   "mimetype": "text/x-python",
   "name": "python",
   "nbconvert_exporter": "python",
   "pygments_lexer": "ipython3",
   "version": "3.7.4"
  }
 },
 "nbformat": 4,
 "nbformat_minor": 1
}
