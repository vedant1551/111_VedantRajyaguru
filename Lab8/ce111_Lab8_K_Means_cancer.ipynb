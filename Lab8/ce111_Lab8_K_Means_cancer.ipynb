{
  "nbformat": 4,
  "nbformat_minor": 0,
  "metadata": {
    "colab": {
      "name": "ce111_Lab8_K_Means_cancer.ipynb",
      "provenance": []
    },
    "kernelspec": {
      "name": "python3",
      "display_name": "Python 3"
    },
    "language_info": {
      "name": "python"
    }
  },
  "cells": [
    {
      "cell_type": "markdown",
      "metadata": {
        "id": "ch9KVARIgDQH"
      },
      "source": [
        "**Aim :** To implement K-Means clustering using scikit-learn library for unlabeled and labeled data.\n",
        "\n",
        "**Excercise:** Write a python program to perform K-Means clustering on Breast Cancer Data\n",
        "\n",
        "**Import Libraries**\n"
      ]
    },
    {
      "cell_type": "code",
      "metadata": {
        "id": "Oel2pMw2fxLW"
      },
      "source": [
        "\n",
        "import numpy as np \n",
        "import pandas as pd \n",
        "from sklearn import datasets\n",
        "from sklearn.cluster import KMeans\n",
        "import matplotlib.pyplot as plt\n"
      ],
      "execution_count": 8,
      "outputs": []
    },
    {
      "cell_type": "markdown",
      "metadata": {
        "id": "f7hKb8EYgH8w"
      },
      "source": [
        "\n",
        "**Prepare Data**\n"
      ]
    },
    {
      "cell_type": "code",
      "metadata": {
        "colab": {
          "base_uri": "https://localhost:8080/"
        },
        "id": "ViKoccwVf_zy",
        "outputId": "daa7e638-76fe-482a-c516-645d91600122"
      },
      "source": [
        "\n",
        "dataset=datasets.load_breast_cancer()\n",
        "dataset\n",
        "\n",
        "print(dataset.data.shape)\n",
        "print(dataset.target.shape)\n"
      ],
      "execution_count": 9,
      "outputs": [
        {
          "output_type": "stream",
          "name": "stdout",
          "text": [
            "(569, 30)\n",
            "(569,)\n"
          ]
        }
      ]
    },
    {
      "cell_type": "markdown",
      "metadata": {
        "id": "Q9IXSnMYgP4k"
      },
      "source": [
        "**K-Mean Model**\n"
      ]
    },
    {
      "cell_type": "code",
      "metadata": {
        "colab": {
          "base_uri": "https://localhost:8080/"
        },
        "id": "JPw-pvSvgNlc",
        "outputId": "b1634fd7-d524-4192-a5ab-375c7165c0f1"
      },
      "source": [
        "\n",
        "\n",
        "kmeans = KMeans(n_clusters=10, random_state=111)\n",
        "prediction = kmeans.fit_predict(dataset.data)\n",
        "print(prediction)\n",
        "\n",
        "kmeans.cluster_centers_.shape\n",
        "print(kmeans.cluster_centers_)\n"
      ],
      "execution_count": 10,
      "outputs": [
        {
          "output_type": "stream",
          "name": "stdout",
          "text": [
            "[9 9 2 6 2 0 2 0 0 0 4 8 8 4 0 4 4 8 1 0 6 3 4 1 9 8 4 8 8 8 2 0 8 2 8 8 0\n",
            " 6 0 0 0 6 2 0 0 2 3 0 6 0 6 0 6 8 4 6 9 4 6 3 3 3 4 3 0 4 3 6 3 6 9 3 2 0\n",
            " 6 8 6 2 2 6 6 6 7 8 6 2 0 2 6 0 0 4 0 0 4 2 6 3 6 0 4 3 6 3 3 0 6 6 1 6 3\n",
            " 6 0 3 3 6 3 4 8 8 6 2 1 0 0 0 0 2 0 2 6 4 8 4 2 0 6 6 4 6 3 8 6 0 3 6 6 0\n",
            " 0 0 6 3 3 6 0 6 8 4 6 6 6 2 9 6 1 0 3 8 2 0 6 4 4 3 3 3 3 4 6 6 7 9 8 6 4\n",
            " 3 8 6 6 6 0 6 3 0 0 6 0 8 2 4 6 8 9 4 0 4 3 8 0 4 2 6 7 4 0 0 6 3 9 1 0 0\n",
            " 3 4 0 4 3 0 6 0 8 6 6 9 3 0 7 2 0 8 0 6 6 0 2 3 6 6 3 6 9 6 9 8 9 0 9 4 8\n",
            " 4 9 8 8 4 8 7 3 0 6 3 0 6 1 3 8 6 6 8 0 0 2 6 2 4 6 6 6 6 6 6 0 0 6 6 6 0\n",
            " 3 6 0 3 9 6 2 3 6 6 0 3 0 0 6 0 6 6 3 6 6 2 3 6 3 2 6 9 6 6 0 6 4 4 4 6 6\n",
            " 6 6 8 6 9 3 7 0 3 6 2 6 3 6 4 6 6 6 4 7 4 6 6 6 0 3 3 6 0 6 4 0 9 2 6 7 1\n",
            " 8 0 2 9 0 4 3 0 0 6 6 6 6 6 0 0 6 0 6 8 3 3 8 9 6 0 0 6 6 6 8 6 6 6 6 6 4\n",
            " 0 8 6 6 6 3 4 4 6 3 2 6 6 6 0 6 0 3 3 3 6 3 6 0 6 2 2 0 0 6 0 0 0 6 8 0 3\n",
            " 8 6 8 0 0 9 6 2 6 0 6 0 6 0 6 3 2 5 0 6 0 0 0 3 8 6 3 6 4 6 3 6 0 0 6 4 6\n",
            " 0 0 0 4 6 0 2 6 4 6 8 8 6 0 0 6 6 2 2 4 0 6 7 3 3 6 3 4 4 6 0 0 4 4 6 2 2\n",
            " 0 6 3 7 6 0 3 3 0 6 0 6 6 6 0 2 3 9 0 6 3 3 6 0 0 0 0 0 3 3 3 6 3 6 6 3 6\n",
            " 3 3 3 0 6 0 6 4 9 9 2 8 9 3]\n",
            "[[1.38279365e+01 1.91494444e+01 8.97186508e+01 5.90661111e+02\n",
            "  9.34092063e-02 9.92853175e-02 7.18241905e-02 3.98695476e-02\n",
            "  1.74434127e-01 6.17180159e-02 3.04898413e-01 1.10019841e+00\n",
            "  2.20347540e+00 2.61375397e+01 5.79755556e-03 2.41773095e-02\n",
            "  2.77843492e-02 1.08769921e-02 1.78418413e-02 3.51059365e-03\n",
            "  1.55457143e+01 2.57181746e+01 1.02610159e+02 7.42215873e+02\n",
            "  1.27978016e-01 2.61547937e-01 2.59325000e-01 1.09396746e-01\n",
            "  2.83889683e-01 8.44613492e-02]\n",
            " [2.17562500e+01 2.28075000e+01 1.45100000e+02 1.47700000e+03\n",
            "  1.04848750e-01 1.73425000e-01 2.27750000e-01 1.23386250e-01\n",
            "  1.91700000e-01 5.97362500e-02 9.69037500e-01 1.37975000e+00\n",
            "  6.97225000e+00 1.38017500e+02 7.64762500e-03 4.32437500e-02\n",
            "  5.45962500e-02 1.57425000e-02 2.10350000e-02 4.16275000e-03\n",
            "  2.78337500e+01 3.07600000e+01 1.89725000e+02 2.36712500e+03\n",
            "  1.43900000e-01 4.16012500e-01 5.30550000e-01 2.22487500e-01\n",
            "  3.09287500e-01 8.39075000e-02]\n",
            " [1.92090698e+01 2.15458140e+01 1.26769767e+02 1.14881395e+03\n",
            "  1.00034186e-01 1.44209302e-01 1.69807674e-01 9.66286047e-02\n",
            "  1.93376744e-01 6.01253488e-02 7.04181395e-01 1.24250000e+00\n",
            "  4.87095349e+00 8.48990698e+01 6.83269767e-03 3.25990698e-02\n",
            "  4.41495349e-02 1.60667674e-02 2.23200000e-02 3.92002326e-03\n",
            "  2.30793023e+01 2.85583721e+01 1.53660465e+02 1.62472093e+03\n",
            "  1.38988372e-01 3.51204651e-01 4.43309302e-01 1.84106977e-01\n",
            "  3.17562791e-01 8.54227907e-02]\n",
            " [9.73218293e+00 1.77415854e+01 6.21885366e+01 2.90591463e+02\n",
            "  9.68318293e-02 8.16114634e-02 4.58635244e-02 1.84159634e-02\n",
            "  1.83691463e-01 6.90581707e-02 2.98315854e-01 1.50651341e+00\n",
            "  2.05055732e+00 1.78766585e+01 1.01134390e-02 2.57784390e-02\n",
            "  3.43888659e-02 1.01834756e-02 2.54907317e-02 5.18631707e-03\n",
            "  1.06992561e+01 2.28543902e+01 6.89584146e+01 3.50034146e+02\n",
            "  1.32730854e-01 1.66539634e-01 1.44692683e-01 5.29096341e-02\n",
            "  2.72664634e-01 8.66247561e-02]\n",
            " [1.53616667e+01 1.99164815e+01 1.00654815e+02 7.30896296e+02\n",
            "  1.00472407e-01 1.23691296e-01 1.20185556e-01 6.46442593e-02\n",
            "  1.85512963e-01 6.24681481e-02 3.91979630e-01 1.02468704e+00\n",
            "  2.74309259e+00 3.71290741e+01 6.64714815e-03 2.71289630e-02\n",
            "  3.69051852e-02 1.33385926e-02 1.91141852e-02 3.54596296e-03\n",
            "  1.78677778e+01 2.70461111e+01 1.18500000e+02 9.78003704e+02\n",
            "  1.40248889e-01 3.26780741e-01 3.81785185e-01 1.50627778e-01\n",
            "  3.13044444e-01 8.85816667e-02]\n",
            " [2.74200000e+01 2.62700000e+01 1.86900000e+02 2.50100000e+03\n",
            "  1.08400000e-01 1.98800000e-01 3.63500000e-01 1.68900000e-01\n",
            "  2.06100000e-01 5.62300000e-02 2.54700000e+00 1.30600000e+00\n",
            "  1.86500000e+01 5.42200000e+02 7.65000000e-03 5.37400000e-02\n",
            "  8.05500000e-02 2.59800000e-02 1.69700000e-02 4.55800000e-03\n",
            "  3.60400000e+01 3.13700000e+01 2.51200000e+02 4.25400000e+03\n",
            "  1.35700000e-01 4.25600000e-01 6.83300000e-01 2.62500000e-01\n",
            "  2.64100000e-01 7.42700000e-02]\n",
            " [1.20269364e+01 1.80218497e+01 7.72786705e+01 4.45356069e+02\n",
            "  9.33026590e-02 7.88433526e-02 4.43303682e-02 2.55613410e-02\n",
            "  1.75363006e-01 6.24437572e-02 2.76698266e-01 1.22186647e+00\n",
            "  1.96422023e+00 2.03239422e+01 6.97534104e-03 2.05825260e-02\n",
            "  2.39695353e-02 9.77756647e-03 2.07963584e-02 3.30613584e-03\n",
            "  1.32510983e+01 2.39936994e+01 8.61298266e+01 5.37038150e+02\n",
            "  1.26847341e-01 1.87697688e-01 1.70588422e-01 7.65791387e-02\n",
            "  2.78100000e-01 7.91802890e-02]\n",
            " [2.43160000e+01 2.23750000e+01 1.61910000e+02 1.85420000e+03\n",
            "  1.03174000e-01 1.68032000e-01 2.35580000e-01 1.40631000e-01\n",
            "  1.79210000e-01 5.89640000e-02 1.23297000e+00 1.14835000e+00\n",
            "  8.82800000e+00 1.99120000e+02 6.61970000e-03 2.92370000e-02\n",
            "  3.93590000e-02 1.50810000e-02 1.95370000e-02 3.44310000e-03\n",
            "  3.09990000e+01 2.98160000e+01 2.08940000e+02 2.93600000e+03\n",
            "  1.40180000e-01 3.64520000e-01 4.68620000e-01 2.28060000e-01\n",
            "  2.76880000e-01 8.10070000e-02]\n",
            " [1.72517391e+01 2.14304348e+01 1.13647826e+02 9.28467391e+02\n",
            "  9.92771739e-02 1.33583478e-01 1.39703478e-01 8.11556522e-02\n",
            "  1.90095652e-01 6.09013043e-02 5.73597826e-01 1.28430217e+00\n",
            "  4.11789130e+00 6.26965217e+01 6.39504348e-03 3.04514565e-02\n",
            "  3.78093478e-02 1.50075435e-02 1.98984783e-02 4.04591304e-03\n",
            "  2.05004348e+01 2.86752174e+01 1.36402174e+02 1.29245652e+03\n",
            "  1.37892174e-01 3.22975217e-01 3.88034783e-01 1.69162391e-01\n",
            "  3.10847826e-01 8.52602174e-02]\n",
            " [2.01415385e+01 2.19288462e+01 1.33696154e+02 1.26529231e+03\n",
            "  1.04046538e-01 1.62936154e-01 2.03368846e-01 1.12997308e-01\n",
            "  1.95876923e-01 6.17669231e-02 7.43607692e-01 1.04544615e+00\n",
            "  5.21096154e+00 9.61280769e+01 6.07065385e-03 3.14061538e-02\n",
            "  4.37934615e-02 1.57963462e-02 1.78696154e-02 3.89538462e-03\n",
            "  2.53707692e+01 2.92965385e+01 1.69553846e+02 1.97088462e+03\n",
            "  1.45473077e-01 4.07311538e-01 5.26211538e-01 2.18661538e-01\n",
            "  3.24896154e-01 9.18253846e-02]]\n"
          ]
        }
      ]
    },
    {
      "cell_type": "markdown",
      "metadata": {
        "id": "fmeSmUvigU9f"
      },
      "source": [
        "\n",
        "**Scatter plot of the data points**\n"
      ]
    },
    {
      "cell_type": "code",
      "metadata": {
        "colab": {
          "base_uri": "https://localhost:8080/",
          "height": 197
        },
        "id": "8dnHl2_ogTPg",
        "outputId": "c8764dc2-9db3-4062-fd2a-0654041d687c"
      },
      "source": [
        "\n",
        "# Scatter plot of the data points\n",
        "import matplotlib.pyplot as plt\n",
        "fig, ax = plt.subplots(2, 5, figsize=(8, 3))\n",
        "centers = kmeans.cluster_centers_.reshape(10, 6, 5)\n",
        "for axi, center in zip(ax.flat, centers):\n",
        "  axi.set(xticks=[], yticks=[])\n",
        "  axi.imshow(center, interpolation='nearest', cmap=plt.cm.binary)"
      ],
      "execution_count": 11,
      "outputs": [
        {
          "output_type": "display_data",
          "data": {
            "image/png": "[encoded data removed]",
            "text/plain": [
              "<Figure size 576x216 with 10 Axes>"
            ]
          },
          "metadata": {}
        }
      ]
    },
    {
      "cell_type": "code",
      "metadata": {
        "id": "Q66sEVA3gY_l"
      },
      "source": [
        "\n",
        "import numpy as np\n",
        "from scipy.stats import mode\n",
        "labels = np.zeros_like(prediction)\n",
        "for i in range(10):\n",
        "  mask = (prediction == i)\n",
        "  labels[mask] = mode(dataset.target[mask])[0]"
      ],
      "execution_count": 12,
      "outputs": []
    },
    {
      "cell_type": "code",
      "metadata": {
        "colab": {
          "base_uri": "https://localhost:8080/"
        },
        "id": "KMWcEdzWgaLM",
        "outputId": "533a2f4d-7141-42c9-99b2-de68a3e4f321"
      },
      "source": [
        "\n",
        "from sklearn.metrics import accuracy_score\n",
        "accuracy_score(dataset.target, labels)\n"
      ],
      "execution_count": 13,
      "outputs": [
        {
          "output_type": "execute_result",
          "data": {
            "text/plain": [
              "0.9050966608084359"
            ]
          },
          "metadata": {},
          "execution_count": 13
        }
      ]
    },
    {
      "cell_type": "code",
      "metadata": {
        "colab": {
          "base_uri": "https://localhost:8080/",
          "height": 279
        },
        "id": "QAyxGlHDge56",
        "outputId": "692beab8-fa9d-40bb-d726-9070bf22822f"
      },
      "source": [
        "\n",
        "from sklearn.metrics import confusion_matrix\n",
        "import seaborn as sns\n",
        "mat = confusion_matrix(dataset.target, labels)\n",
        "ax = sns.heatmap(mat.T, square=True, annot=True, fmt='d', cbar=False,xticklabels=dataset.target_names,yticklabels=dataset.target_names)\n",
        "\n",
        "#ax.set_ylim(10,10)\n",
        "plt.xlabel('true label')\n",
        "plt.ylabel('predicted label');"
      ],
      "execution_count": 14,
      "outputs": [
        {
          "output_type": "display_data",
          "data": {
            "image/png": "[encoded data removed]",
            "text/plain": [
              "<Figure size 432x288 with 1 Axes>"
            ]
          },
          "metadata": {
            "needs_background": "light"
          }
        }
      ]
    }
  ]
}